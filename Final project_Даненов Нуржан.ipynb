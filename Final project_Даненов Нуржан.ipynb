{
  "nbformat": 4,
  "nbformat_minor": 0,
  "metadata": {
    "colab": {
      "provenance": []
    },
    "kernelspec": {
      "name": "python3",
      "display_name": "Python 3"
    },
    "language_info": {
      "name": "python"
    }
  },
  "cells": [
    {
      "cell_type": "code",
      "execution_count": 1,
      "metadata": {
        "id": "jpwsgG5hdxPm"
      },
      "outputs": [],
      "source": [
        "import numpy as np\n",
        "import pandas as pd\n",
        "import matplotlib.pyplot as plt\n",
        "import seaborn as sns"
      ]
    },
    {
      "cell_type": "code",
      "source": [
        "data_df = pd.read_csv('data.csv')"
      ],
      "metadata": {
        "id": "byRJIQBteNZh"
      },
      "execution_count": 2,
      "outputs": []
    },
    {
      "cell_type": "code",
      "source": [
        "data_df.info()"
      ],
      "metadata": {
        "colab": {
          "base_uri": "https://localhost:8080/"
        },
        "id": "wZ-2O_64e_Zd",
        "outputId": "2a2676b7-aa5b-4baf-c45f-b3bf70538d50"
      },
      "execution_count": 3,
      "outputs": [
        {
          "output_type": "stream",
          "name": "stdout",
          "text": [
            "<class 'pandas.core.frame.DataFrame'>\n",
            "RangeIndex: 6012 entries, 0 to 6011\n",
            "Columns: 144 entries, R_fighter to R_age\n",
            "dtypes: bool(1), float64(106), int64(28), object(9)\n",
            "memory usage: 6.6+ MB\n"
          ]
        }
      ]
    },
    {
      "cell_type": "code",
      "source": [
        "df = data_df.dropna()"
      ],
      "metadata": {
        "id": "zQWzWA4qfslq"
      },
      "execution_count": 4,
      "outputs": []
    },
    {
      "cell_type": "code",
      "source": [
        "df.info()"
      ],
      "metadata": {
        "colab": {
          "base_uri": "https://localhost:8080/"
        },
        "id": "0DD74ZanfxAN",
        "outputId": "8ad3a469-a587-4bb3-9dde-f70b416d02a8"
      },
      "execution_count": 5,
      "outputs": [
        {
          "output_type": "stream",
          "name": "stdout",
          "text": [
            "<class 'pandas.core.frame.DataFrame'>\n",
            "Int64Index: 3890 entries, 0 to 5884\n",
            "Columns: 144 entries, R_fighter to R_age\n",
            "dtypes: bool(1), float64(106), int64(28), object(9)\n",
            "memory usage: 4.3+ MB\n"
          ]
        }
      ]
    },
    {
      "cell_type": "code",
      "source": [
        "df.loc[df['date'] == '2021-03-06']"
      ],
      "metadata": {
        "colab": {
          "base_uri": "https://localhost:8080/",
          "height": 1000
        },
        "id": "Oxg6r8RKQBZU",
        "outputId": "cf0a247b-138c-472d-87df-66d3ca98db39"
      },
      "execution_count": 6,
      "outputs": [
        {
          "output_type": "execute_result",
          "data": {
            "text/plain": [
              "           R_fighter          B_fighter        Referee        date  \\\n",
              "23     Dominick Cruz       Casey Kenney   Jason Herzog  2021-03-06   \n",
              "24       Song Yadong     Kyler Phillips     Mark Smith  2021-03-06   \n",
              "25          Petr Yan  Aljamain Sterling     Mark Smith  2021-03-06   \n",
              "26    Jan Blachowicz    Israel Adesanya      Herb Dean  2021-03-06   \n",
              "27     Thiago Santos   Aleksandar Rakic      Herb Dean  2021-03-06   \n",
              "28  Joseph Benavidez      Askar Askarov   Jason Herzog  2021-03-06   \n",
              "29      Amanda Nunes     Megan Anderson   Jason Herzog  2021-03-06   \n",
              "30   Islam Makhachev         Drew Dober  Chris Tognoni  2021-03-06   \n",
              "31       Tim Elliott    Jordan Espinosa     Mark Smith  2021-03-06   \n",
              "32     Livinha Souza       Amanda Lemos   Jason Herzog  2021-03-06   \n",
              "33  Rogerio Bontorin    Kai Kara-France      Herb Dean  2021-03-06   \n",
              "36        Sean Brady      Jake Matthews  Chris Tognoni  2021-03-06   \n",
              "37    Mario Bautista       Trevin Jones  Chris Tognoni  2021-03-06   \n",
              "\n",
              "                  location Winner  title_bout        weight_class  B_avg_KD  \\\n",
              "23  Las Vegas, Nevada, USA    Red       False        Bantamweight  0.000000   \n",
              "24  Las Vegas, Nevada, USA   Blue       False        Bantamweight  0.000000   \n",
              "25  Las Vegas, Nevada, USA   Blue        True        Bantamweight  0.000000   \n",
              "26  Las Vegas, Nevada, USA    Red        True    LightHeavyweight  1.050781   \n",
              "27  Las Vegas, Nevada, USA   Blue       False    LightHeavyweight  0.718750   \n",
              "28  Las Vegas, Nevada, USA   Blue       False           Flyweight  0.000000   \n",
              "29  Las Vegas, Nevada, USA    Red        True  WomenFeatherweight  0.500000   \n",
              "30  Las Vegas, Nevada, USA    Red       False         Lightweight  0.388672   \n",
              "31  Las Vegas, Nevada, USA    Red       False           Flyweight  0.000000   \n",
              "32  Las Vegas, Nevada, USA   Blue       False    WomenStrawweight  0.500000   \n",
              "33  Las Vegas, Nevada, USA   Blue       False           Flyweight  0.593750   \n",
              "36  Las Vegas, Nevada, USA    Red       False        Welterweight  0.781250   \n",
              "37  Las Vegas, Nevada, USA   Blue       False        Bantamweight  1.000000   \n",
              "\n",
              "    B_avg_opp_KD  ...  R_win_by_Decision_Unanimous  R_win_by_KO/TKO  \\\n",
              "23      0.000000  ...                            3                1   \n",
              "24      0.000000  ...                            2                2   \n",
              "25      0.035156  ...                            3                4   \n",
              "26      0.000000  ...                            3                4   \n",
              "27      0.062500  ...                            2               11   \n",
              "28      0.250000  ...                            8                5   \n",
              "29      0.000000  ...                            3                7   \n",
              "30      0.000000  ...                            4                1   \n",
              "31      0.000000  ...                            4                0   \n",
              "32      0.000000  ...                            1                0   \n",
              "33      1.031250  ...                            0                0   \n",
              "36      0.000488  ...                            2                0   \n",
              "37      1.000000  ...                            1                1   \n",
              "\n",
              "    R_win_by_Submission  R_win_by_TKO_Doctor_Stoppage  R_Stance  R_Height_cms  \\\n",
              "23                    0                             0  Orthodox        172.72   \n",
              "24                    1                             0  Orthodox        172.72   \n",
              "25                    0                             0    Switch        170.18   \n",
              "26                    2                             0  Orthodox        187.96   \n",
              "27                    0                             0  Orthodox        187.96   \n",
              "28                    1                             0  Southpaw        162.56   \n",
              "29                    2                             0  Orthodox        172.72   \n",
              "30                    2                             0  Southpaw        177.80   \n",
              "31                    1                             0  Southpaw        170.18   \n",
              "32                    1                             0  Orthodox        160.02   \n",
              "33                    0                             1  Orthodox        165.10   \n",
              "36                    1                             0  Orthodox        177.80   \n",
              "37                    0                             0    Switch        175.26   \n",
              "\n",
              "    R_Reach_cms  R_Weight_lbs  B_age  R_age  \n",
              "23       172.72         135.0   29.0   35.0  \n",
              "24       170.18         145.0   25.0   23.0  \n",
              "25       170.18         135.0   31.0   28.0  \n",
              "26       198.12         205.0   31.0   38.0  \n",
              "27       193.04         205.0   29.0   37.0  \n",
              "28       165.10         125.0   28.0   36.0  \n",
              "29       175.26         145.0   31.0   32.0  \n",
              "30       177.80         155.0   32.0   29.0  \n",
              "31       167.64         125.0   31.0   34.0  \n",
              "32       160.02         115.0   33.0   29.0  \n",
              "33       170.18         125.0   27.0   28.0  \n",
              "36       182.88         170.0   26.0   28.0  \n",
              "37       175.26         135.0   30.0   27.0  \n",
              "\n",
              "[13 rows x 144 columns]"
            ],
            "text/html": [
              "\n",
              "  <div id=\"df-02df9ba3-ea2a-400f-abc1-39f7c435901e\">\n",
              "    <div class=\"colab-df-container\">\n",
              "      <div>\n",
              "<style scoped>\n",
              "    .dataframe tbody tr th:only-of-type {\n",
              "        vertical-align: middle;\n",
              "    }\n",
              "\n",
              "    .dataframe tbody tr th {\n",
              "        vertical-align: top;\n",
              "    }\n",
              "\n",
              "    .dataframe thead th {\n",
              "        text-align: right;\n",
              "    }\n",
              "</style>\n",
              "<table border=\"1\" class=\"dataframe\">\n",
              "  <thead>\n",
              "    <tr style=\"text-align: right;\">\n",
              "      <th></th>\n",
              "      <th>R_fighter</th>\n",
              "      <th>B_fighter</th>\n",
              "      <th>Referee</th>\n",
              "      <th>date</th>\n",
              "      <th>location</th>\n",
              "      <th>Winner</th>\n",
              "      <th>title_bout</th>\n",
              "      <th>weight_class</th>\n",
              "      <th>B_avg_KD</th>\n",
              "      <th>B_avg_opp_KD</th>\n",
              "      <th>...</th>\n",
              "      <th>R_win_by_Decision_Unanimous</th>\n",
              "      <th>R_win_by_KO/TKO</th>\n",
              "      <th>R_win_by_Submission</th>\n",
              "      <th>R_win_by_TKO_Doctor_Stoppage</th>\n",
              "      <th>R_Stance</th>\n",
              "      <th>R_Height_cms</th>\n",
              "      <th>R_Reach_cms</th>\n",
              "      <th>R_Weight_lbs</th>\n",
              "      <th>B_age</th>\n",
              "      <th>R_age</th>\n",
              "    </tr>\n",
              "  </thead>\n",
              "  <tbody>\n",
              "    <tr>\n",
              "      <th>23</th>\n",
              "      <td>Dominick Cruz</td>\n",
              "      <td>Casey Kenney</td>\n",
              "      <td>Jason Herzog</td>\n",
              "      <td>2021-03-06</td>\n",
              "      <td>Las Vegas, Nevada, USA</td>\n",
              "      <td>Red</td>\n",
              "      <td>False</td>\n",
              "      <td>Bantamweight</td>\n",
              "      <td>0.000000</td>\n",
              "      <td>0.000000</td>\n",
              "      <td>...</td>\n",
              "      <td>3</td>\n",
              "      <td>1</td>\n",
              "      <td>0</td>\n",
              "      <td>0</td>\n",
              "      <td>Orthodox</td>\n",
              "      <td>172.72</td>\n",
              "      <td>172.72</td>\n",
              "      <td>135.0</td>\n",
              "      <td>29.0</td>\n",
              "      <td>35.0</td>\n",
              "    </tr>\n",
              "    <tr>\n",
              "      <th>24</th>\n",
              "      <td>Song Yadong</td>\n",
              "      <td>Kyler Phillips</td>\n",
              "      <td>Mark Smith</td>\n",
              "      <td>2021-03-06</td>\n",
              "      <td>Las Vegas, Nevada, USA</td>\n",
              "      <td>Blue</td>\n",
              "      <td>False</td>\n",
              "      <td>Bantamweight</td>\n",
              "      <td>0.000000</td>\n",
              "      <td>0.000000</td>\n",
              "      <td>...</td>\n",
              "      <td>2</td>\n",
              "      <td>2</td>\n",
              "      <td>1</td>\n",
              "      <td>0</td>\n",
              "      <td>Orthodox</td>\n",
              "      <td>172.72</td>\n",
              "      <td>170.18</td>\n",
              "      <td>145.0</td>\n",
              "      <td>25.0</td>\n",
              "      <td>23.0</td>\n",
              "    </tr>\n",
              "    <tr>\n",
              "      <th>25</th>\n",
              "      <td>Petr Yan</td>\n",
              "      <td>Aljamain Sterling</td>\n",
              "      <td>Mark Smith</td>\n",
              "      <td>2021-03-06</td>\n",
              "      <td>Las Vegas, Nevada, USA</td>\n",
              "      <td>Blue</td>\n",
              "      <td>True</td>\n",
              "      <td>Bantamweight</td>\n",
              "      <td>0.000000</td>\n",
              "      <td>0.035156</td>\n",
              "      <td>...</td>\n",
              "      <td>3</td>\n",
              "      <td>4</td>\n",
              "      <td>0</td>\n",
              "      <td>0</td>\n",
              "      <td>Switch</td>\n",
              "      <td>170.18</td>\n",
              "      <td>170.18</td>\n",
              "      <td>135.0</td>\n",
              "      <td>31.0</td>\n",
              "      <td>28.0</td>\n",
              "    </tr>\n",
              "    <tr>\n",
              "      <th>26</th>\n",
              "      <td>Jan Blachowicz</td>\n",
              "      <td>Israel Adesanya</td>\n",
              "      <td>Herb Dean</td>\n",
              "      <td>2021-03-06</td>\n",
              "      <td>Las Vegas, Nevada, USA</td>\n",
              "      <td>Red</td>\n",
              "      <td>True</td>\n",
              "      <td>LightHeavyweight</td>\n",
              "      <td>1.050781</td>\n",
              "      <td>0.000000</td>\n",
              "      <td>...</td>\n",
              "      <td>3</td>\n",
              "      <td>4</td>\n",
              "      <td>2</td>\n",
              "      <td>0</td>\n",
              "      <td>Orthodox</td>\n",
              "      <td>187.96</td>\n",
              "      <td>198.12</td>\n",
              "      <td>205.0</td>\n",
              "      <td>31.0</td>\n",
              "      <td>38.0</td>\n",
              "    </tr>\n",
              "    <tr>\n",
              "      <th>27</th>\n",
              "      <td>Thiago Santos</td>\n",
              "      <td>Aleksandar Rakic</td>\n",
              "      <td>Herb Dean</td>\n",
              "      <td>2021-03-06</td>\n",
              "      <td>Las Vegas, Nevada, USA</td>\n",
              "      <td>Blue</td>\n",
              "      <td>False</td>\n",
              "      <td>LightHeavyweight</td>\n",
              "      <td>0.718750</td>\n",
              "      <td>0.062500</td>\n",
              "      <td>...</td>\n",
              "      <td>2</td>\n",
              "      <td>11</td>\n",
              "      <td>0</td>\n",
              "      <td>0</td>\n",
              "      <td>Orthodox</td>\n",
              "      <td>187.96</td>\n",
              "      <td>193.04</td>\n",
              "      <td>205.0</td>\n",
              "      <td>29.0</td>\n",
              "      <td>37.0</td>\n",
              "    </tr>\n",
              "    <tr>\n",
              "      <th>28</th>\n",
              "      <td>Joseph Benavidez</td>\n",
              "      <td>Askar Askarov</td>\n",
              "      <td>Jason Herzog</td>\n",
              "      <td>2021-03-06</td>\n",
              "      <td>Las Vegas, Nevada, USA</td>\n",
              "      <td>Blue</td>\n",
              "      <td>False</td>\n",
              "      <td>Flyweight</td>\n",
              "      <td>0.000000</td>\n",
              "      <td>0.250000</td>\n",
              "      <td>...</td>\n",
              "      <td>8</td>\n",
              "      <td>5</td>\n",
              "      <td>1</td>\n",
              "      <td>0</td>\n",
              "      <td>Southpaw</td>\n",
              "      <td>162.56</td>\n",
              "      <td>165.10</td>\n",
              "      <td>125.0</td>\n",
              "      <td>28.0</td>\n",
              "      <td>36.0</td>\n",
              "    </tr>\n",
              "    <tr>\n",
              "      <th>29</th>\n",
              "      <td>Amanda Nunes</td>\n",
              "      <td>Megan Anderson</td>\n",
              "      <td>Jason Herzog</td>\n",
              "      <td>2021-03-06</td>\n",
              "      <td>Las Vegas, Nevada, USA</td>\n",
              "      <td>Red</td>\n",
              "      <td>True</td>\n",
              "      <td>WomenFeatherweight</td>\n",
              "      <td>0.500000</td>\n",
              "      <td>0.000000</td>\n",
              "      <td>...</td>\n",
              "      <td>3</td>\n",
              "      <td>7</td>\n",
              "      <td>2</td>\n",
              "      <td>0</td>\n",
              "      <td>Orthodox</td>\n",
              "      <td>172.72</td>\n",
              "      <td>175.26</td>\n",
              "      <td>145.0</td>\n",
              "      <td>31.0</td>\n",
              "      <td>32.0</td>\n",
              "    </tr>\n",
              "    <tr>\n",
              "      <th>30</th>\n",
              "      <td>Islam Makhachev</td>\n",
              "      <td>Drew Dober</td>\n",
              "      <td>Chris Tognoni</td>\n",
              "      <td>2021-03-06</td>\n",
              "      <td>Las Vegas, Nevada, USA</td>\n",
              "      <td>Red</td>\n",
              "      <td>False</td>\n",
              "      <td>Lightweight</td>\n",
              "      <td>0.388672</td>\n",
              "      <td>0.000000</td>\n",
              "      <td>...</td>\n",
              "      <td>4</td>\n",
              "      <td>1</td>\n",
              "      <td>2</td>\n",
              "      <td>0</td>\n",
              "      <td>Southpaw</td>\n",
              "      <td>177.80</td>\n",
              "      <td>177.80</td>\n",
              "      <td>155.0</td>\n",
              "      <td>32.0</td>\n",
              "      <td>29.0</td>\n",
              "    </tr>\n",
              "    <tr>\n",
              "      <th>31</th>\n",
              "      <td>Tim Elliott</td>\n",
              "      <td>Jordan Espinosa</td>\n",
              "      <td>Mark Smith</td>\n",
              "      <td>2021-03-06</td>\n",
              "      <td>Las Vegas, Nevada, USA</td>\n",
              "      <td>Red</td>\n",
              "      <td>False</td>\n",
              "      <td>Flyweight</td>\n",
              "      <td>0.000000</td>\n",
              "      <td>0.000000</td>\n",
              "      <td>...</td>\n",
              "      <td>4</td>\n",
              "      <td>0</td>\n",
              "      <td>1</td>\n",
              "      <td>0</td>\n",
              "      <td>Southpaw</td>\n",
              "      <td>170.18</td>\n",
              "      <td>167.64</td>\n",
              "      <td>125.0</td>\n",
              "      <td>31.0</td>\n",
              "      <td>34.0</td>\n",
              "    </tr>\n",
              "    <tr>\n",
              "      <th>32</th>\n",
              "      <td>Livinha Souza</td>\n",
              "      <td>Amanda Lemos</td>\n",
              "      <td>Jason Herzog</td>\n",
              "      <td>2021-03-06</td>\n",
              "      <td>Las Vegas, Nevada, USA</td>\n",
              "      <td>Blue</td>\n",
              "      <td>False</td>\n",
              "      <td>WomenStrawweight</td>\n",
              "      <td>0.500000</td>\n",
              "      <td>0.000000</td>\n",
              "      <td>...</td>\n",
              "      <td>1</td>\n",
              "      <td>0</td>\n",
              "      <td>1</td>\n",
              "      <td>0</td>\n",
              "      <td>Orthodox</td>\n",
              "      <td>160.02</td>\n",
              "      <td>160.02</td>\n",
              "      <td>115.0</td>\n",
              "      <td>33.0</td>\n",
              "      <td>29.0</td>\n",
              "    </tr>\n",
              "    <tr>\n",
              "      <th>33</th>\n",
              "      <td>Rogerio Bontorin</td>\n",
              "      <td>Kai Kara-France</td>\n",
              "      <td>Herb Dean</td>\n",
              "      <td>2021-03-06</td>\n",
              "      <td>Las Vegas, Nevada, USA</td>\n",
              "      <td>Blue</td>\n",
              "      <td>False</td>\n",
              "      <td>Flyweight</td>\n",
              "      <td>0.593750</td>\n",
              "      <td>1.031250</td>\n",
              "      <td>...</td>\n",
              "      <td>0</td>\n",
              "      <td>0</td>\n",
              "      <td>0</td>\n",
              "      <td>1</td>\n",
              "      <td>Orthodox</td>\n",
              "      <td>165.10</td>\n",
              "      <td>170.18</td>\n",
              "      <td>125.0</td>\n",
              "      <td>27.0</td>\n",
              "      <td>28.0</td>\n",
              "    </tr>\n",
              "    <tr>\n",
              "      <th>36</th>\n",
              "      <td>Sean Brady</td>\n",
              "      <td>Jake Matthews</td>\n",
              "      <td>Chris Tognoni</td>\n",
              "      <td>2021-03-06</td>\n",
              "      <td>Las Vegas, Nevada, USA</td>\n",
              "      <td>Red</td>\n",
              "      <td>False</td>\n",
              "      <td>Welterweight</td>\n",
              "      <td>0.781250</td>\n",
              "      <td>0.000488</td>\n",
              "      <td>...</td>\n",
              "      <td>2</td>\n",
              "      <td>0</td>\n",
              "      <td>1</td>\n",
              "      <td>0</td>\n",
              "      <td>Orthodox</td>\n",
              "      <td>177.80</td>\n",
              "      <td>182.88</td>\n",
              "      <td>170.0</td>\n",
              "      <td>26.0</td>\n",
              "      <td>28.0</td>\n",
              "    </tr>\n",
              "    <tr>\n",
              "      <th>37</th>\n",
              "      <td>Mario Bautista</td>\n",
              "      <td>Trevin Jones</td>\n",
              "      <td>Chris Tognoni</td>\n",
              "      <td>2021-03-06</td>\n",
              "      <td>Las Vegas, Nevada, USA</td>\n",
              "      <td>Blue</td>\n",
              "      <td>False</td>\n",
              "      <td>Bantamweight</td>\n",
              "      <td>1.000000</td>\n",
              "      <td>1.000000</td>\n",
              "      <td>...</td>\n",
              "      <td>1</td>\n",
              "      <td>1</td>\n",
              "      <td>0</td>\n",
              "      <td>0</td>\n",
              "      <td>Switch</td>\n",
              "      <td>175.26</td>\n",
              "      <td>175.26</td>\n",
              "      <td>135.0</td>\n",
              "      <td>30.0</td>\n",
              "      <td>27.0</td>\n",
              "    </tr>\n",
              "  </tbody>\n",
              "</table>\n",
              "<p>13 rows × 144 columns</p>\n",
              "</div>\n",
              "      <button class=\"colab-df-convert\" onclick=\"convertToInteractive('df-02df9ba3-ea2a-400f-abc1-39f7c435901e')\"\n",
              "              title=\"Convert this dataframe to an interactive table.\"\n",
              "              style=\"display:none;\">\n",
              "        \n",
              "  <svg xmlns=\"http://www.w3.org/2000/svg\" height=\"24px\"viewBox=\"0 0 24 24\"\n",
              "       width=\"24px\">\n",
              "    <path d=\"M0 0h24v24H0V0z\" fill=\"none\"/>\n",
              "    <path d=\"M18.56 5.44l.94 2.06.94-2.06 2.06-.94-2.06-.94-.94-2.06-.94 2.06-2.06.94zm-11 1L8.5 8.5l.94-2.06 2.06-.94-2.06-.94L8.5 2.5l-.94 2.06-2.06.94zm10 10l.94 2.06.94-2.06 2.06-.94-2.06-.94-.94-2.06-.94 2.06-2.06.94z\"/><path d=\"M17.41 7.96l-1.37-1.37c-.4-.4-.92-.59-1.43-.59-.52 0-1.04.2-1.43.59L10.3 9.45l-7.72 7.72c-.78.78-.78 2.05 0 2.83L4 21.41c.39.39.9.59 1.41.59.51 0 1.02-.2 1.41-.59l7.78-7.78 2.81-2.81c.8-.78.8-2.07 0-2.86zM5.41 20L4 18.59l7.72-7.72 1.47 1.35L5.41 20z\"/>\n",
              "  </svg>\n",
              "      </button>\n",
              "      \n",
              "  <style>\n",
              "    .colab-df-container {\n",
              "      display:flex;\n",
              "      flex-wrap:wrap;\n",
              "      gap: 12px;\n",
              "    }\n",
              "\n",
              "    .colab-df-convert {\n",
              "      background-color: #E8F0FE;\n",
              "      border: none;\n",
              "      border-radius: 50%;\n",
              "      cursor: pointer;\n",
              "      display: none;\n",
              "      fill: #1967D2;\n",
              "      height: 32px;\n",
              "      padding: 0 0 0 0;\n",
              "      width: 32px;\n",
              "    }\n",
              "\n",
              "    .colab-df-convert:hover {\n",
              "      background-color: #E2EBFA;\n",
              "      box-shadow: 0px 1px 2px rgba(60, 64, 67, 0.3), 0px 1px 3px 1px rgba(60, 64, 67, 0.15);\n",
              "      fill: #174EA6;\n",
              "    }\n",
              "\n",
              "    [theme=dark] .colab-df-convert {\n",
              "      background-color: #3B4455;\n",
              "      fill: #D2E3FC;\n",
              "    }\n",
              "\n",
              "    [theme=dark] .colab-df-convert:hover {\n",
              "      background-color: #434B5C;\n",
              "      box-shadow: 0px 1px 3px 1px rgba(0, 0, 0, 0.15);\n",
              "      filter: drop-shadow(0px 1px 2px rgba(0, 0, 0, 0.3));\n",
              "      fill: #FFFFFF;\n",
              "    }\n",
              "  </style>\n",
              "\n",
              "      <script>\n",
              "        const buttonEl =\n",
              "          document.querySelector('#df-02df9ba3-ea2a-400f-abc1-39f7c435901e button.colab-df-convert');\n",
              "        buttonEl.style.display =\n",
              "          google.colab.kernel.accessAllowed ? 'block' : 'none';\n",
              "\n",
              "        async function convertToInteractive(key) {\n",
              "          const element = document.querySelector('#df-02df9ba3-ea2a-400f-abc1-39f7c435901e');\n",
              "          const dataTable =\n",
              "            await google.colab.kernel.invokeFunction('convertToInteractive',\n",
              "                                                     [key], {});\n",
              "          if (!dataTable) return;\n",
              "\n",
              "          const docLinkHtml = 'Like what you see? Visit the ' +\n",
              "            '<a target=\"_blank\" href=https://colab.research.google.com/notebooks/data_table.ipynb>data table notebook</a>'\n",
              "            + ' to learn more about interactive tables.';\n",
              "          element.innerHTML = '';\n",
              "          dataTable['output_type'] = 'display_data';\n",
              "          await google.colab.output.renderOutput(dataTable, element);\n",
              "          const docLink = document.createElement('div');\n",
              "          docLink.innerHTML = docLinkHtml;\n",
              "          element.appendChild(docLink);\n",
              "        }\n",
              "      </script>\n",
              "    </div>\n",
              "  </div>\n",
              "  "
            ]
          },
          "metadata": {},
          "execution_count": 6
        }
      ]
    },
    {
      "cell_type": "code",
      "source": [
        "columns=df.select_dtypes(include='object').columns"
      ],
      "metadata": {
        "id": "sCUNOeUohNEs"
      },
      "execution_count": 7,
      "outputs": []
    },
    {
      "cell_type": "code",
      "source": [
        "columns"
      ],
      "metadata": {
        "colab": {
          "base_uri": "https://localhost:8080/"
        },
        "id": "DjqKRGIUhb29",
        "outputId": "682f002b-6527-4528-de95-7e8a642bd594"
      },
      "execution_count": 8,
      "outputs": [
        {
          "output_type": "execute_result",
          "data": {
            "text/plain": [
              "Index(['R_fighter', 'B_fighter', 'Referee', 'date', 'location', 'Winner',\n",
              "       'weight_class', 'B_Stance', 'R_Stance'],\n",
              "      dtype='object')"
            ]
          },
          "metadata": {},
          "execution_count": 8
        }
      ]
    },
    {
      "cell_type": "code",
      "source": [
        "df.drop(columns=['R_fighter', 'B_fighter', 'Referee', 'date', 'location','weight_class'], inplace=True)"
      ],
      "metadata": {
        "colab": {
          "base_uri": "https://localhost:8080/"
        },
        "id": "ktj7VE4Xhd_X",
        "outputId": "0cef08cd-c2d3-41e9-b038-060cce4b8e40"
      },
      "execution_count": 9,
      "outputs": [
        {
          "output_type": "stream",
          "name": "stderr",
          "text": [
            "<ipython-input-9-599302c60a61>:1: SettingWithCopyWarning: \n",
            "A value is trying to be set on a copy of a slice from a DataFrame\n",
            "\n",
            "See the caveats in the documentation: https://pandas.pydata.org/pandas-docs/stable/user_guide/indexing.html#returning-a-view-versus-a-copy\n",
            "  df.drop(columns=['R_fighter', 'B_fighter', 'Referee', 'date', 'location','weight_class'], inplace=True)\n"
          ]
        }
      ]
    },
    {
      "cell_type": "code",
      "source": [
        "df.select_dtypes(include='object')"
      ],
      "metadata": {
        "colab": {
          "base_uri": "https://localhost:8080/",
          "height": 423
        },
        "id": "4zqd1zn2kWDZ",
        "outputId": "f85c3d5e-9917-44af-e4ea-f582dd8075ee"
      },
      "execution_count": 10,
      "outputs": [
        {
          "output_type": "execute_result",
          "data": {
            "text/plain": [
              "     Winner  B_Stance  R_Stance\n",
              "0       Red  Orthodox  Orthodox\n",
              "1       Red  Orthodox  Orthodox\n",
              "4      Blue  Orthodox  Orthodox\n",
              "5      Blue    Switch  Orthodox\n",
              "6      Blue  Orthodox  Orthodox\n",
              "...     ...       ...       ...\n",
              "5759    Red  Orthodox  Orthodox\n",
              "5767    Red  Orthodox  Orthodox\n",
              "5799    Red  Orthodox  Orthodox\n",
              "5840    Red  Orthodox  Orthodox\n",
              "5884    Red  Southpaw  Orthodox\n",
              "\n",
              "[3890 rows x 3 columns]"
            ],
            "text/html": [
              "\n",
              "  <div id=\"df-43f50936-61d0-4308-ae9b-48e1299d56c1\">\n",
              "    <div class=\"colab-df-container\">\n",
              "      <div>\n",
              "<style scoped>\n",
              "    .dataframe tbody tr th:only-of-type {\n",
              "        vertical-align: middle;\n",
              "    }\n",
              "\n",
              "    .dataframe tbody tr th {\n",
              "        vertical-align: top;\n",
              "    }\n",
              "\n",
              "    .dataframe thead th {\n",
              "        text-align: right;\n",
              "    }\n",
              "</style>\n",
              "<table border=\"1\" class=\"dataframe\">\n",
              "  <thead>\n",
              "    <tr style=\"text-align: right;\">\n",
              "      <th></th>\n",
              "      <th>Winner</th>\n",
              "      <th>B_Stance</th>\n",
              "      <th>R_Stance</th>\n",
              "    </tr>\n",
              "  </thead>\n",
              "  <tbody>\n",
              "    <tr>\n",
              "      <th>0</th>\n",
              "      <td>Red</td>\n",
              "      <td>Orthodox</td>\n",
              "      <td>Orthodox</td>\n",
              "    </tr>\n",
              "    <tr>\n",
              "      <th>1</th>\n",
              "      <td>Red</td>\n",
              "      <td>Orthodox</td>\n",
              "      <td>Orthodox</td>\n",
              "    </tr>\n",
              "    <tr>\n",
              "      <th>4</th>\n",
              "      <td>Blue</td>\n",
              "      <td>Orthodox</td>\n",
              "      <td>Orthodox</td>\n",
              "    </tr>\n",
              "    <tr>\n",
              "      <th>5</th>\n",
              "      <td>Blue</td>\n",
              "      <td>Switch</td>\n",
              "      <td>Orthodox</td>\n",
              "    </tr>\n",
              "    <tr>\n",
              "      <th>6</th>\n",
              "      <td>Blue</td>\n",
              "      <td>Orthodox</td>\n",
              "      <td>Orthodox</td>\n",
              "    </tr>\n",
              "    <tr>\n",
              "      <th>...</th>\n",
              "      <td>...</td>\n",
              "      <td>...</td>\n",
              "      <td>...</td>\n",
              "    </tr>\n",
              "    <tr>\n",
              "      <th>5759</th>\n",
              "      <td>Red</td>\n",
              "      <td>Orthodox</td>\n",
              "      <td>Orthodox</td>\n",
              "    </tr>\n",
              "    <tr>\n",
              "      <th>5767</th>\n",
              "      <td>Red</td>\n",
              "      <td>Orthodox</td>\n",
              "      <td>Orthodox</td>\n",
              "    </tr>\n",
              "    <tr>\n",
              "      <th>5799</th>\n",
              "      <td>Red</td>\n",
              "      <td>Orthodox</td>\n",
              "      <td>Orthodox</td>\n",
              "    </tr>\n",
              "    <tr>\n",
              "      <th>5840</th>\n",
              "      <td>Red</td>\n",
              "      <td>Orthodox</td>\n",
              "      <td>Orthodox</td>\n",
              "    </tr>\n",
              "    <tr>\n",
              "      <th>5884</th>\n",
              "      <td>Red</td>\n",
              "      <td>Southpaw</td>\n",
              "      <td>Orthodox</td>\n",
              "    </tr>\n",
              "  </tbody>\n",
              "</table>\n",
              "<p>3890 rows × 3 columns</p>\n",
              "</div>\n",
              "      <button class=\"colab-df-convert\" onclick=\"convertToInteractive('df-43f50936-61d0-4308-ae9b-48e1299d56c1')\"\n",
              "              title=\"Convert this dataframe to an interactive table.\"\n",
              "              style=\"display:none;\">\n",
              "        \n",
              "  <svg xmlns=\"http://www.w3.org/2000/svg\" height=\"24px\"viewBox=\"0 0 24 24\"\n",
              "       width=\"24px\">\n",
              "    <path d=\"M0 0h24v24H0V0z\" fill=\"none\"/>\n",
              "    <path d=\"M18.56 5.44l.94 2.06.94-2.06 2.06-.94-2.06-.94-.94-2.06-.94 2.06-2.06.94zm-11 1L8.5 8.5l.94-2.06 2.06-.94-2.06-.94L8.5 2.5l-.94 2.06-2.06.94zm10 10l.94 2.06.94-2.06 2.06-.94-2.06-.94-.94-2.06-.94 2.06-2.06.94z\"/><path d=\"M17.41 7.96l-1.37-1.37c-.4-.4-.92-.59-1.43-.59-.52 0-1.04.2-1.43.59L10.3 9.45l-7.72 7.72c-.78.78-.78 2.05 0 2.83L4 21.41c.39.39.9.59 1.41.59.51 0 1.02-.2 1.41-.59l7.78-7.78 2.81-2.81c.8-.78.8-2.07 0-2.86zM5.41 20L4 18.59l7.72-7.72 1.47 1.35L5.41 20z\"/>\n",
              "  </svg>\n",
              "      </button>\n",
              "      \n",
              "  <style>\n",
              "    .colab-df-container {\n",
              "      display:flex;\n",
              "      flex-wrap:wrap;\n",
              "      gap: 12px;\n",
              "    }\n",
              "\n",
              "    .colab-df-convert {\n",
              "      background-color: #E8F0FE;\n",
              "      border: none;\n",
              "      border-radius: 50%;\n",
              "      cursor: pointer;\n",
              "      display: none;\n",
              "      fill: #1967D2;\n",
              "      height: 32px;\n",
              "      padding: 0 0 0 0;\n",
              "      width: 32px;\n",
              "    }\n",
              "\n",
              "    .colab-df-convert:hover {\n",
              "      background-color: #E2EBFA;\n",
              "      box-shadow: 0px 1px 2px rgba(60, 64, 67, 0.3), 0px 1px 3px 1px rgba(60, 64, 67, 0.15);\n",
              "      fill: #174EA6;\n",
              "    }\n",
              "\n",
              "    [theme=dark] .colab-df-convert {\n",
              "      background-color: #3B4455;\n",
              "      fill: #D2E3FC;\n",
              "    }\n",
              "\n",
              "    [theme=dark] .colab-df-convert:hover {\n",
              "      background-color: #434B5C;\n",
              "      box-shadow: 0px 1px 3px 1px rgba(0, 0, 0, 0.15);\n",
              "      filter: drop-shadow(0px 1px 2px rgba(0, 0, 0, 0.3));\n",
              "      fill: #FFFFFF;\n",
              "    }\n",
              "  </style>\n",
              "\n",
              "      <script>\n",
              "        const buttonEl =\n",
              "          document.querySelector('#df-43f50936-61d0-4308-ae9b-48e1299d56c1 button.colab-df-convert');\n",
              "        buttonEl.style.display =\n",
              "          google.colab.kernel.accessAllowed ? 'block' : 'none';\n",
              "\n",
              "        async function convertToInteractive(key) {\n",
              "          const element = document.querySelector('#df-43f50936-61d0-4308-ae9b-48e1299d56c1');\n",
              "          const dataTable =\n",
              "            await google.colab.kernel.invokeFunction('convertToInteractive',\n",
              "                                                     [key], {});\n",
              "          if (!dataTable) return;\n",
              "\n",
              "          const docLinkHtml = 'Like what you see? Visit the ' +\n",
              "            '<a target=\"_blank\" href=https://colab.research.google.com/notebooks/data_table.ipynb>data table notebook</a>'\n",
              "            + ' to learn more about interactive tables.';\n",
              "          element.innerHTML = '';\n",
              "          dataTable['output_type'] = 'display_data';\n",
              "          await google.colab.output.renderOutput(dataTable, element);\n",
              "          const docLink = document.createElement('div');\n",
              "          docLink.innerHTML = docLinkHtml;\n",
              "          element.appendChild(docLink);\n",
              "        }\n",
              "      </script>\n",
              "    </div>\n",
              "  </div>\n",
              "  "
            ]
          },
          "metadata": {},
          "execution_count": 10
        }
      ]
    },
    {
      "cell_type": "code",
      "source": [
        "df['B_Stance'].value_counts()"
      ],
      "metadata": {
        "colab": {
          "base_uri": "https://localhost:8080/"
        },
        "id": "m0Nru1_QkYJN",
        "outputId": "92b100c9-7cec-4c1c-8b52-602ccd1c158d"
      },
      "execution_count": 11,
      "outputs": [
        {
          "output_type": "execute_result",
          "data": {
            "text/plain": [
              "Orthodox       2932\n",
              "Southpaw        807\n",
              "Switch          147\n",
              "Open Stance       4\n",
              "Name: B_Stance, dtype: int64"
            ]
          },
          "metadata": {},
          "execution_count": 11
        }
      ]
    },
    {
      "cell_type": "code",
      "source": [
        "df['Winner'].value_counts()"
      ],
      "metadata": {
        "colab": {
          "base_uri": "https://localhost:8080/"
        },
        "id": "r-mf3-11mcPa",
        "outputId": "05eb0208-de4d-4c74-cde9-5c134bbc6ccc"
      },
      "execution_count": 12,
      "outputs": [
        {
          "output_type": "execute_result",
          "data": {
            "text/plain": [
              "Red     2397\n",
              "Blue    1424\n",
              "Draw      69\n",
              "Name: Winner, dtype: int64"
            ]
          },
          "metadata": {},
          "execution_count": 12
        }
      ]
    },
    {
      "cell_type": "code",
      "source": [
        "df['R_Stance'].value_counts()"
      ],
      "metadata": {
        "colab": {
          "base_uri": "https://localhost:8080/"
        },
        "id": "0nsXmTxhlbih",
        "outputId": "c2024d6b-9bae-474a-88ac-3c1bf06a5b25"
      },
      "execution_count": 13,
      "outputs": [
        {
          "output_type": "execute_result",
          "data": {
            "text/plain": [
              "Orthodox       2929\n",
              "Southpaw        838\n",
              "Switch          113\n",
              "Open Stance      10\n",
              "Name: R_Stance, dtype: int64"
            ]
          },
          "metadata": {},
          "execution_count": 13
        }
      ]
    },
    {
      "cell_type": "code",
      "source": [
        "map_stance = {'Orthodox': 0, 'Switch': 1, 'Southpaw': 2, 'Open Stance': 3}\n",
        "df['B_Stance'] = df['B_Stance'].replace(map_stance)\n",
        "df['R_Stance'] = df['R_Stance'].replace(map_stance)\n",
        "map_winner = {'Red': 0, 'Blue': 1, 'Draw': 2}\n",
        "df['Winner'] = df['Winner'].replace(map_winner)"
      ],
      "metadata": {
        "colab": {
          "base_uri": "https://localhost:8080/"
        },
        "id": "yIHYc98blnPw",
        "outputId": "0344ce29-9ae5-4c0b-f0fb-892bcf7aed33"
      },
      "execution_count": 14,
      "outputs": [
        {
          "output_type": "stream",
          "name": "stderr",
          "text": [
            "<ipython-input-14-82c9fde5bcf9>:2: SettingWithCopyWarning: \n",
            "A value is trying to be set on a copy of a slice from a DataFrame.\n",
            "Try using .loc[row_indexer,col_indexer] = value instead\n",
            "\n",
            "See the caveats in the documentation: https://pandas.pydata.org/pandas-docs/stable/user_guide/indexing.html#returning-a-view-versus-a-copy\n",
            "  df['B_Stance'] = df['B_Stance'].replace(map_stance)\n",
            "<ipython-input-14-82c9fde5bcf9>:3: SettingWithCopyWarning: \n",
            "A value is trying to be set on a copy of a slice from a DataFrame.\n",
            "Try using .loc[row_indexer,col_indexer] = value instead\n",
            "\n",
            "See the caveats in the documentation: https://pandas.pydata.org/pandas-docs/stable/user_guide/indexing.html#returning-a-view-versus-a-copy\n",
            "  df['R_Stance'] = df['R_Stance'].replace(map_stance)\n",
            "<ipython-input-14-82c9fde5bcf9>:5: SettingWithCopyWarning: \n",
            "A value is trying to be set on a copy of a slice from a DataFrame.\n",
            "Try using .loc[row_indexer,col_indexer] = value instead\n",
            "\n",
            "See the caveats in the documentation: https://pandas.pydata.org/pandas-docs/stable/user_guide/indexing.html#returning-a-view-versus-a-copy\n",
            "  df['Winner'] = df['Winner'].replace(map_winner)\n"
          ]
        }
      ]
    },
    {
      "cell_type": "code",
      "source": [
        "df.drop(columns=df.select_dtypes(include='bool').columns, inplace=True)\n",
        "df.info()"
      ],
      "metadata": {
        "colab": {
          "base_uri": "https://localhost:8080/"
        },
        "id": "KNPtV9zrCwp7",
        "outputId": "96ba0a6b-e406-4e32-c498-76b903c52863"
      },
      "execution_count": 15,
      "outputs": [
        {
          "output_type": "stream",
          "name": "stdout",
          "text": [
            "<class 'pandas.core.frame.DataFrame'>\n",
            "Int64Index: 3890 entries, 0 to 5884\n",
            "Columns: 137 entries, Winner to R_age\n",
            "dtypes: float64(106), int64(31)\n",
            "memory usage: 4.1 MB\n"
          ]
        },
        {
          "output_type": "stream",
          "name": "stderr",
          "text": [
            "<ipython-input-15-c16457873eec>:1: SettingWithCopyWarning: \n",
            "A value is trying to be set on a copy of a slice from a DataFrame\n",
            "\n",
            "See the caveats in the documentation: https://pandas.pydata.org/pandas-docs/stable/user_guide/indexing.html#returning-a-view-versus-a-copy\n",
            "  df.drop(columns=df.select_dtypes(include='bool').columns, inplace=True)\n"
          ]
        }
      ]
    },
    {
      "cell_type": "code",
      "source": [
        "df = df[df['Winner'] != 2]"
      ],
      "metadata": {
        "id": "rasD68v2oT2f"
      },
      "execution_count": 16,
      "outputs": []
    },
    {
      "cell_type": "code",
      "source": [
        "df['Winner'].value_counts()"
      ],
      "metadata": {
        "colab": {
          "base_uri": "https://localhost:8080/"
        },
        "id": "Lywet6zJLB9W",
        "outputId": "828b2f24-9e9a-406c-a7f2-92ad37bae6f6"
      },
      "execution_count": 17,
      "outputs": [
        {
          "output_type": "execute_result",
          "data": {
            "text/plain": [
              "0    2397\n",
              "1    1424\n",
              "Name: Winner, dtype: int64"
            ]
          },
          "metadata": {},
          "execution_count": 17
        }
      ]
    },
    {
      "cell_type": "code",
      "source": [
        "X = df.drop(columns=['Winner'])\n",
        "Y = df['Winner']"
      ],
      "metadata": {
        "id": "N4onZ8zkoqha"
      },
      "execution_count": 18,
      "outputs": []
    },
    {
      "cell_type": "code",
      "source": [
        "from sklearn.model_selection import train_test_split\n",
        "X_train, X_test, y_train, y_test = train_test_split(X, Y, test_size=0.25, random_state=42)"
      ],
      "metadata": {
        "id": "nOvlQaoCovua"
      },
      "execution_count": 19,
      "outputs": []
    },
    {
      "cell_type": "code",
      "source": [
        "print(\"Training size = \" + str(X_train.shape[0]))\n",
        "print(\"Testing size = \" + str(X_test.shape[0]))"
      ],
      "metadata": {
        "colab": {
          "base_uri": "https://localhost:8080/"
        },
        "id": "M19vlDJZo9FB",
        "outputId": "7c5ea9b2-c9e6-49d4-9bd8-afd5ba142cb5"
      },
      "execution_count": 20,
      "outputs": [
        {
          "output_type": "stream",
          "name": "stdout",
          "text": [
            "Training size = 2865\n",
            "Testing size = 956\n"
          ]
        }
      ]
    },
    {
      "cell_type": "code",
      "source": [
        "seed = 404\n",
        "np.random.seed(seed)"
      ],
      "metadata": {
        "id": "UCuqNf11uIfv"
      },
      "execution_count": 21,
      "outputs": []
    },
    {
      "cell_type": "markdown",
      "source": [
        "Используем метод перекрестной проверки (cross-validation) для оценки качества различных моделей машинного обучения на обучающих данных.\n",
        "\n",
        "Сначала создается экземпляр классификатора. Затем создается объект StratifiedKFold, который разбивает данные на 10 фолдов (10 подмножеств) и перемешивает их случайным образом, используя заданный seed (для повторяемости результатов).\n",
        "\n",
        "Затем метод cross_val_score() вызывается с параметрами: классификатор, обучающие данные, целевая переменная (y_train) и объект StratifiedKFold.\n",
        "\n",
        "Метод cross_val_score() выполняет перекрестную проверку и возвращает массив оценок (scores), соответствующих каждому фолду. Затем вычисляется среднее значение оценок и выводятся на экран оценки для каждого фолда и среднее значение."
      ],
      "metadata": {
        "id": "_3p9_v2hMV3X"
      }
    },
    {
      "cell_type": "code",
      "source": [
        "from sklearn.model_selection import StratifiedKFold\n",
        "from sklearn.model_selection import cross_val_score\n",
        "from sklearn.naive_bayes import GaussianNB\n",
        "\n",
        "gnb = GaussianNB()\n",
        "kfold = StratifiedKFold(n_splits=10, shuffle=True, random_state=seed)\n",
        "cv_score = cross_val_score(gnb, X_train, y_train.values.ravel(), cv=kfold)\n",
        "gnb_score = cv_score.mean()\n",
        "print('Gaussian Naive Bayes K-fold Scores:')\n",
        "print(cv_score)\n",
        "print()\n",
        "print('Gaussian Naive Bayes Average Score:')\n",
        "print(gnb_score)\n",
        "print()"
      ],
      "metadata": {
        "colab": {
          "base_uri": "https://localhost:8080/"
        },
        "id": "MsZoaQi8ufqK",
        "outputId": "4f863786-5583-4369-a337-c58150f19ba8"
      },
      "execution_count": 22,
      "outputs": [
        {
          "output_type": "stream",
          "name": "stdout",
          "text": [
            "Gaussian Naive Bayes K-fold Scores:\n",
            "[0.56794425 0.55749129 0.63066202 0.56097561 0.64808362 0.52797203\n",
            " 0.61188811 0.61888112 0.51748252 0.53146853]\n",
            "\n",
            "Gaussian Naive Bayes Average Score:\n",
            "0.5772849102117396\n",
            "\n"
          ]
        }
      ]
    },
    {
      "cell_type": "code",
      "source": [
        "from sklearn.linear_model import LogisticRegression\n",
        "\n",
        "lr = LogisticRegression(max_iter = 10000)\n",
        "kfold = StratifiedKFold(n_splits=10, shuffle=True, random_state=seed)\n",
        "cv_score = cross_val_score(lr, X_train, y_train.values.ravel(), cv=kfold)\n",
        "lr_score = cv_score.mean()\n",
        "print('Logistic Regression K-fold Scores (training):')\n",
        "print(cv_score)\n",
        "print()\n",
        "print('Logistic Regression Average Score:')\n",
        "print(lr_score)"
      ],
      "metadata": {
        "id": "gcHFya0PvQVd",
        "colab": {
          "base_uri": "https://localhost:8080/"
        },
        "outputId": "98773355-2200-45b1-bc1c-7174ed22f6d3"
      },
      "execution_count": 23,
      "outputs": [
        {
          "output_type": "stream",
          "name": "stdout",
          "text": [
            "Logistic Regression K-fold Scores (training):\n",
            "[0.63066202 0.65853659 0.65853659 0.64808362 0.66202091 0.63986014\n",
            " 0.65384615 0.63286713 0.61888112 0.61888112]\n",
            "\n",
            "Logistic Regression Average Score:\n",
            "0.6422175385590021\n"
          ]
        }
      ]
    },
    {
      "cell_type": "code",
      "source": [
        "from sklearn import tree\n",
        "\n",
        "dt = tree.DecisionTreeClassifier(random_state = 1)\n",
        "kfold = StratifiedKFold(n_splits=10, shuffle=True, random_state=seed)\n",
        "cv_score = cross_val_score(dt, X_train, y_train.values.ravel(), cv=kfold)\n",
        "dt_score = cv_score.mean()\n",
        "print('Decision Tree K-fold Scores:')\n",
        "print(cv_score)\n",
        "print()\n",
        "print('Decision Tree Average Score:')\n",
        "print(dt_score)"
      ],
      "metadata": {
        "colab": {
          "base_uri": "https://localhost:8080/"
        },
        "id": "7p7oBgiQ7du7",
        "outputId": "670dae1c-2533-4920-815b-dcf2738a3680"
      },
      "execution_count": 24,
      "outputs": [
        {
          "output_type": "stream",
          "name": "stdout",
          "text": [
            "Decision Tree K-fold Scores:\n",
            "[0.57839721 0.5087108  0.58188153 0.57839721 0.57839721 0.59090909\n",
            " 0.52447552 0.6013986  0.55594406 0.57692308]\n",
            "\n",
            "Decision Tree Average Score:\n",
            "0.5675434321775785\n"
          ]
        }
      ]
    },
    {
      "cell_type": "code",
      "source": [
        "from sklearn.neighbors import KNeighborsClassifier\n",
        "\n",
        "knn = KNeighborsClassifier()\n",
        "kfold = StratifiedKFold(n_splits=10, shuffle=True, random_state=seed)\n",
        "cv_score = cross_val_score(knn, X_train, y_train.values.ravel(), cv=kfold)\n",
        "knn_score = cv_score.mean()\n",
        "print('KNN K-fold Scores):')\n",
        "print(cv_score)\n",
        "print()\n",
        "print('KNN Average Score:')\n",
        "print(knn_score)"
      ],
      "metadata": {
        "colab": {
          "base_uri": "https://localhost:8080/"
        },
        "id": "1CJcXz1480qT",
        "outputId": "ef4083cd-5c62-43d3-ec62-f0b1527a7f5d"
      },
      "execution_count": 25,
      "outputs": [
        {
          "output_type": "stream",
          "name": "stdout",
          "text": [
            "KNN K-fold Scores):\n",
            "[0.58188153 0.58885017 0.6271777  0.58188153 0.60627178 0.6048951\n",
            " 0.59440559 0.61538462 0.53496503 0.54545455]\n",
            "\n",
            "KNN Average Score:\n",
            "0.5881167612874931\n"
          ]
        }
      ]
    },
    {
      "cell_type": "code",
      "source": [
        "from sklearn.ensemble import RandomForestClassifier\n",
        "\n",
        "rf = RandomForestClassifier(random_state = 1)\n",
        "kfold = StratifiedKFold(n_splits=10, shuffle=True, random_state=seed)\n",
        "cv_score = cross_val_score(rf, X_train, y_train.values.ravel(), cv=kfold)\n",
        "rf_score = cv_score.mean()\n",
        "print('Random Forest K-fold Scores:')\n",
        "print(cv_score)\n",
        "print()\n",
        "print('Random Forest Average Score:')\n",
        "print(rf_score)"
      ],
      "metadata": {
        "colab": {
          "base_uri": "https://localhost:8080/"
        },
        "id": "p1UzZEGQ9H_D",
        "outputId": "68b50a9f-94cb-4232-e149-6f564a198a8b"
      },
      "execution_count": 26,
      "outputs": [
        {
          "output_type": "stream",
          "name": "stdout",
          "text": [
            "Random Forest K-fold Scores:\n",
            "[0.64111498 0.61324042 0.67595819 0.6271777  0.6097561  0.65034965\n",
            " 0.63286713 0.61538462 0.58741259 0.65034965]\n",
            "\n",
            "Random Forest Average Score:\n",
            "0.6303611023123218\n"
          ]
        }
      ]
    },
    {
      "cell_type": "code",
      "source": [
        "import xgboost\n",
        "from xgboost import XGBClassifier\n",
        "\n",
        "xgb = XGBClassifier(objective='binary:logistic',random_state =1, use_label_encoder=False)\n",
        "kfold = StratifiedKFold(n_splits=10, shuffle=True, random_state=seed)\n",
        "cv_score = cross_val_score(xgb, X_train, y_train.values.ravel(), cv=kfold)\n",
        "xgb_score = cv_score.mean()\n",
        "print('XGBoost Classifier K-fold Scores:')\n",
        "print(cv_score)\n",
        "print()\n",
        "print('XGBoost Classifier Average Score:')\n",
        "print(xgb_score)"
      ],
      "metadata": {
        "colab": {
          "base_uri": "https://localhost:8080/"
        },
        "id": "PWlT86iw9ZqD",
        "outputId": "00d13bf7-9fe5-4269-ec84-31e79ec7d76b"
      },
      "execution_count": 27,
      "outputs": [
        {
          "output_type": "stream",
          "name": "stderr",
          "text": [
            "/usr/local/lib/python3.10/dist-packages/xgboost/sklearn.py:1395: UserWarning: `use_label_encoder` is deprecated in 1.7.0.\n",
            "  warnings.warn(\"`use_label_encoder` is deprecated in 1.7.0.\")\n",
            "/usr/local/lib/python3.10/dist-packages/xgboost/sklearn.py:1395: UserWarning: `use_label_encoder` is deprecated in 1.7.0.\n",
            "  warnings.warn(\"`use_label_encoder` is deprecated in 1.7.0.\")\n",
            "/usr/local/lib/python3.10/dist-packages/xgboost/sklearn.py:1395: UserWarning: `use_label_encoder` is deprecated in 1.7.0.\n",
            "  warnings.warn(\"`use_label_encoder` is deprecated in 1.7.0.\")\n",
            "/usr/local/lib/python3.10/dist-packages/xgboost/sklearn.py:1395: UserWarning: `use_label_encoder` is deprecated in 1.7.0.\n",
            "  warnings.warn(\"`use_label_encoder` is deprecated in 1.7.0.\")\n",
            "/usr/local/lib/python3.10/dist-packages/xgboost/sklearn.py:1395: UserWarning: `use_label_encoder` is deprecated in 1.7.0.\n",
            "  warnings.warn(\"`use_label_encoder` is deprecated in 1.7.0.\")\n",
            "/usr/local/lib/python3.10/dist-packages/xgboost/sklearn.py:1395: UserWarning: `use_label_encoder` is deprecated in 1.7.0.\n",
            "  warnings.warn(\"`use_label_encoder` is deprecated in 1.7.0.\")\n",
            "/usr/local/lib/python3.10/dist-packages/xgboost/sklearn.py:1395: UserWarning: `use_label_encoder` is deprecated in 1.7.0.\n",
            "  warnings.warn(\"`use_label_encoder` is deprecated in 1.7.0.\")\n",
            "/usr/local/lib/python3.10/dist-packages/xgboost/sklearn.py:1395: UserWarning: `use_label_encoder` is deprecated in 1.7.0.\n",
            "  warnings.warn(\"`use_label_encoder` is deprecated in 1.7.0.\")\n",
            "/usr/local/lib/python3.10/dist-packages/xgboost/sklearn.py:1395: UserWarning: `use_label_encoder` is deprecated in 1.7.0.\n",
            "  warnings.warn(\"`use_label_encoder` is deprecated in 1.7.0.\")\n",
            "/usr/local/lib/python3.10/dist-packages/xgboost/sklearn.py:1395: UserWarning: `use_label_encoder` is deprecated in 1.7.0.\n",
            "  warnings.warn(\"`use_label_encoder` is deprecated in 1.7.0.\")\n",
            "/usr/local/lib/python3.10/dist-packages/xgboost/sklearn.py:1395: UserWarning: `use_label_encoder` is deprecated in 1.7.0.\n",
            "  warnings.warn(\"`use_label_encoder` is deprecated in 1.7.0.\")\n"
          ]
        },
        {
          "output_type": "stream",
          "name": "stdout",
          "text": [
            "XGBoost Classifier K-fold Scores:\n",
            "[0.58885017 0.63414634 0.69337979 0.62020906 0.60627178 0.63986014\n",
            " 0.62937063 0.56993007 0.53496503 0.58741259]\n",
            "\n",
            "XGBoost Classifier Average Score:\n",
            "0.6104395604395605\n"
          ]
        }
      ]
    },
    {
      "cell_type": "code",
      "source": [
        "from sklearn.svm import SVC\n",
        "\n",
        "svc = SVC(probability = True)\n",
        "kfold = StratifiedKFold(n_splits=10, shuffle=True, random_state=seed)\n",
        "cv_score = cross_val_score(svc, X_train, y_train.values.ravel(), cv=kfold)\n",
        "svc_score = cv_score.mean()\n",
        "print('Support Vector Classification K-fold Scores:')\n",
        "print(cv_score)\n",
        "print()\n",
        "print('Support Vector Classification Average Score:')\n",
        "print(svc_score)"
      ],
      "metadata": {
        "colab": {
          "base_uri": "https://localhost:8080/"
        },
        "id": "_MIkFqG53k59",
        "outputId": "3c300df9-d709-4c28-d9dc-440bb9b02ee4"
      },
      "execution_count": 28,
      "outputs": [
        {
          "output_type": "stream",
          "name": "stdout",
          "text": [
            "Support Vector Classification K-fold Scores:\n",
            "[0.62369338 0.62020906 0.62020906 0.62020906 0.62020906 0.62237762\n",
            " 0.62237762 0.62237762 0.62237762 0.62237762]\n",
            "\n",
            "Support Vector Classification Average Score:\n",
            "0.6216417728612851\n"
          ]
        }
      ]
    },
    {
      "cell_type": "code",
      "source": [
        "scores = [['Gaussian Naive Bayes', gnb_score],\n",
        " ['Logistic Regression', lr_score],\n",
        " ['Random Forest', rf_score],\n",
        " ['Decision Tree', dt_score],\n",
        " ['K-Nearest Neighbor', knn_score],\n",
        " ['Support Vector Classifier', svc_score],\n",
        " ['XGBoost', xgb_score]]\n",
        "\n",
        "df_scores = pd.DataFrame(scores,\n",
        "                         columns = ['Model', 'Score Average']\n",
        "                        )\n",
        "df_scores"
      ],
      "metadata": {
        "colab": {
          "base_uri": "https://localhost:8080/",
          "height": 256
        },
        "id": "wQ1az03k2g1I",
        "outputId": "7be79de3-c6ac-4faf-fdf6-3600ba057b0e"
      },
      "execution_count": 29,
      "outputs": [
        {
          "output_type": "execute_result",
          "data": {
            "text/plain": [
              "                       Model  Score Average\n",
              "0       Gaussian Naive Bayes       0.577285\n",
              "1        Logistic Regression       0.642218\n",
              "2              Random Forest       0.630361\n",
              "3              Decision Tree       0.567543\n",
              "4         K-Nearest Neighbor       0.588117\n",
              "5  Support Vector Classifier       0.621642\n",
              "6                    XGBoost       0.610440"
            ],
            "text/html": [
              "\n",
              "  <div id=\"df-47356e95-b60b-4355-a145-c2a86b89f4c8\">\n",
              "    <div class=\"colab-df-container\">\n",
              "      <div>\n",
              "<style scoped>\n",
              "    .dataframe tbody tr th:only-of-type {\n",
              "        vertical-align: middle;\n",
              "    }\n",
              "\n",
              "    .dataframe tbody tr th {\n",
              "        vertical-align: top;\n",
              "    }\n",
              "\n",
              "    .dataframe thead th {\n",
              "        text-align: right;\n",
              "    }\n",
              "</style>\n",
              "<table border=\"1\" class=\"dataframe\">\n",
              "  <thead>\n",
              "    <tr style=\"text-align: right;\">\n",
              "      <th></th>\n",
              "      <th>Model</th>\n",
              "      <th>Score Average</th>\n",
              "    </tr>\n",
              "  </thead>\n",
              "  <tbody>\n",
              "    <tr>\n",
              "      <th>0</th>\n",
              "      <td>Gaussian Naive Bayes</td>\n",
              "      <td>0.577285</td>\n",
              "    </tr>\n",
              "    <tr>\n",
              "      <th>1</th>\n",
              "      <td>Logistic Regression</td>\n",
              "      <td>0.642218</td>\n",
              "    </tr>\n",
              "    <tr>\n",
              "      <th>2</th>\n",
              "      <td>Random Forest</td>\n",
              "      <td>0.630361</td>\n",
              "    </tr>\n",
              "    <tr>\n",
              "      <th>3</th>\n",
              "      <td>Decision Tree</td>\n",
              "      <td>0.567543</td>\n",
              "    </tr>\n",
              "    <tr>\n",
              "      <th>4</th>\n",
              "      <td>K-Nearest Neighbor</td>\n",
              "      <td>0.588117</td>\n",
              "    </tr>\n",
              "    <tr>\n",
              "      <th>5</th>\n",
              "      <td>Support Vector Classifier</td>\n",
              "      <td>0.621642</td>\n",
              "    </tr>\n",
              "    <tr>\n",
              "      <th>6</th>\n",
              "      <td>XGBoost</td>\n",
              "      <td>0.610440</td>\n",
              "    </tr>\n",
              "  </tbody>\n",
              "</table>\n",
              "</div>\n",
              "      <button class=\"colab-df-convert\" onclick=\"convertToInteractive('df-47356e95-b60b-4355-a145-c2a86b89f4c8')\"\n",
              "              title=\"Convert this dataframe to an interactive table.\"\n",
              "              style=\"display:none;\">\n",
              "        \n",
              "  <svg xmlns=\"http://www.w3.org/2000/svg\" height=\"24px\"viewBox=\"0 0 24 24\"\n",
              "       width=\"24px\">\n",
              "    <path d=\"M0 0h24v24H0V0z\" fill=\"none\"/>\n",
              "    <path d=\"M18.56 5.44l.94 2.06.94-2.06 2.06-.94-2.06-.94-.94-2.06-.94 2.06-2.06.94zm-11 1L8.5 8.5l.94-2.06 2.06-.94-2.06-.94L8.5 2.5l-.94 2.06-2.06.94zm10 10l.94 2.06.94-2.06 2.06-.94-2.06-.94-.94-2.06-.94 2.06-2.06.94z\"/><path d=\"M17.41 7.96l-1.37-1.37c-.4-.4-.92-.59-1.43-.59-.52 0-1.04.2-1.43.59L10.3 9.45l-7.72 7.72c-.78.78-.78 2.05 0 2.83L4 21.41c.39.39.9.59 1.41.59.51 0 1.02-.2 1.41-.59l7.78-7.78 2.81-2.81c.8-.78.8-2.07 0-2.86zM5.41 20L4 18.59l7.72-7.72 1.47 1.35L5.41 20z\"/>\n",
              "  </svg>\n",
              "      </button>\n",
              "      \n",
              "  <style>\n",
              "    .colab-df-container {\n",
              "      display:flex;\n",
              "      flex-wrap:wrap;\n",
              "      gap: 12px;\n",
              "    }\n",
              "\n",
              "    .colab-df-convert {\n",
              "      background-color: #E8F0FE;\n",
              "      border: none;\n",
              "      border-radius: 50%;\n",
              "      cursor: pointer;\n",
              "      display: none;\n",
              "      fill: #1967D2;\n",
              "      height: 32px;\n",
              "      padding: 0 0 0 0;\n",
              "      width: 32px;\n",
              "    }\n",
              "\n",
              "    .colab-df-convert:hover {\n",
              "      background-color: #E2EBFA;\n",
              "      box-shadow: 0px 1px 2px rgba(60, 64, 67, 0.3), 0px 1px 3px 1px rgba(60, 64, 67, 0.15);\n",
              "      fill: #174EA6;\n",
              "    }\n",
              "\n",
              "    [theme=dark] .colab-df-convert {\n",
              "      background-color: #3B4455;\n",
              "      fill: #D2E3FC;\n",
              "    }\n",
              "\n",
              "    [theme=dark] .colab-df-convert:hover {\n",
              "      background-color: #434B5C;\n",
              "      box-shadow: 0px 1px 3px 1px rgba(0, 0, 0, 0.15);\n",
              "      filter: drop-shadow(0px 1px 2px rgba(0, 0, 0, 0.3));\n",
              "      fill: #FFFFFF;\n",
              "    }\n",
              "  </style>\n",
              "\n",
              "      <script>\n",
              "        const buttonEl =\n",
              "          document.querySelector('#df-47356e95-b60b-4355-a145-c2a86b89f4c8 button.colab-df-convert');\n",
              "        buttonEl.style.display =\n",
              "          google.colab.kernel.accessAllowed ? 'block' : 'none';\n",
              "\n",
              "        async function convertToInteractive(key) {\n",
              "          const element = document.querySelector('#df-47356e95-b60b-4355-a145-c2a86b89f4c8');\n",
              "          const dataTable =\n",
              "            await google.colab.kernel.invokeFunction('convertToInteractive',\n",
              "                                                     [key], {});\n",
              "          if (!dataTable) return;\n",
              "\n",
              "          const docLinkHtml = 'Like what you see? Visit the ' +\n",
              "            '<a target=\"_blank\" href=https://colab.research.google.com/notebooks/data_table.ipynb>data table notebook</a>'\n",
              "            + ' to learn more about interactive tables.';\n",
              "          element.innerHTML = '';\n",
              "          dataTable['output_type'] = 'display_data';\n",
              "          await google.colab.output.renderOutput(dataTable, element);\n",
              "          const docLink = document.createElement('div');\n",
              "          docLink.innerHTML = docLinkHtml;\n",
              "          element.appendChild(docLink);\n",
              "        }\n",
              "      </script>\n",
              "    </div>\n",
              "  </div>\n",
              "  "
            ]
          },
          "metadata": {},
          "execution_count": 29
        }
      ]
    },
    {
      "cell_type": "code",
      "source": [
        "df_scores.sort_values('Score Average', ascending=True).head(3)"
      ],
      "metadata": {
        "colab": {
          "base_uri": "https://localhost:8080/",
          "height": 143
        },
        "id": "r8m6c3xm7FcS",
        "outputId": "a2e24d9f-05bc-4ee4-e8d5-3a804fdf6ee9"
      },
      "execution_count": 30,
      "outputs": [
        {
          "output_type": "execute_result",
          "data": {
            "text/plain": [
              "                  Model  Score Average\n",
              "3         Decision Tree       0.567543\n",
              "0  Gaussian Naive Bayes       0.577285\n",
              "4    K-Nearest Neighbor       0.588117"
            ],
            "text/html": [
              "\n",
              "  <div id=\"df-69d5bf86-6c88-4e08-9838-91ac66df48bb\">\n",
              "    <div class=\"colab-df-container\">\n",
              "      <div>\n",
              "<style scoped>\n",
              "    .dataframe tbody tr th:only-of-type {\n",
              "        vertical-align: middle;\n",
              "    }\n",
              "\n",
              "    .dataframe tbody tr th {\n",
              "        vertical-align: top;\n",
              "    }\n",
              "\n",
              "    .dataframe thead th {\n",
              "        text-align: right;\n",
              "    }\n",
              "</style>\n",
              "<table border=\"1\" class=\"dataframe\">\n",
              "  <thead>\n",
              "    <tr style=\"text-align: right;\">\n",
              "      <th></th>\n",
              "      <th>Model</th>\n",
              "      <th>Score Average</th>\n",
              "    </tr>\n",
              "  </thead>\n",
              "  <tbody>\n",
              "    <tr>\n",
              "      <th>3</th>\n",
              "      <td>Decision Tree</td>\n",
              "      <td>0.567543</td>\n",
              "    </tr>\n",
              "    <tr>\n",
              "      <th>0</th>\n",
              "      <td>Gaussian Naive Bayes</td>\n",
              "      <td>0.577285</td>\n",
              "    </tr>\n",
              "    <tr>\n",
              "      <th>4</th>\n",
              "      <td>K-Nearest Neighbor</td>\n",
              "      <td>0.588117</td>\n",
              "    </tr>\n",
              "  </tbody>\n",
              "</table>\n",
              "</div>\n",
              "      <button class=\"colab-df-convert\" onclick=\"convertToInteractive('df-69d5bf86-6c88-4e08-9838-91ac66df48bb')\"\n",
              "              title=\"Convert this dataframe to an interactive table.\"\n",
              "              style=\"display:none;\">\n",
              "        \n",
              "  <svg xmlns=\"http://www.w3.org/2000/svg\" height=\"24px\"viewBox=\"0 0 24 24\"\n",
              "       width=\"24px\">\n",
              "    <path d=\"M0 0h24v24H0V0z\" fill=\"none\"/>\n",
              "    <path d=\"M18.56 5.44l.94 2.06.94-2.06 2.06-.94-2.06-.94-.94-2.06-.94 2.06-2.06.94zm-11 1L8.5 8.5l.94-2.06 2.06-.94-2.06-.94L8.5 2.5l-.94 2.06-2.06.94zm10 10l.94 2.06.94-2.06 2.06-.94-2.06-.94-.94-2.06-.94 2.06-2.06.94z\"/><path d=\"M17.41 7.96l-1.37-1.37c-.4-.4-.92-.59-1.43-.59-.52 0-1.04.2-1.43.59L10.3 9.45l-7.72 7.72c-.78.78-.78 2.05 0 2.83L4 21.41c.39.39.9.59 1.41.59.51 0 1.02-.2 1.41-.59l7.78-7.78 2.81-2.81c.8-.78.8-2.07 0-2.86zM5.41 20L4 18.59l7.72-7.72 1.47 1.35L5.41 20z\"/>\n",
              "  </svg>\n",
              "      </button>\n",
              "      \n",
              "  <style>\n",
              "    .colab-df-container {\n",
              "      display:flex;\n",
              "      flex-wrap:wrap;\n",
              "      gap: 12px;\n",
              "    }\n",
              "\n",
              "    .colab-df-convert {\n",
              "      background-color: #E8F0FE;\n",
              "      border: none;\n",
              "      border-radius: 50%;\n",
              "      cursor: pointer;\n",
              "      display: none;\n",
              "      fill: #1967D2;\n",
              "      height: 32px;\n",
              "      padding: 0 0 0 0;\n",
              "      width: 32px;\n",
              "    }\n",
              "\n",
              "    .colab-df-convert:hover {\n",
              "      background-color: #E2EBFA;\n",
              "      box-shadow: 0px 1px 2px rgba(60, 64, 67, 0.3), 0px 1px 3px 1px rgba(60, 64, 67, 0.15);\n",
              "      fill: #174EA6;\n",
              "    }\n",
              "\n",
              "    [theme=dark] .colab-df-convert {\n",
              "      background-color: #3B4455;\n",
              "      fill: #D2E3FC;\n",
              "    }\n",
              "\n",
              "    [theme=dark] .colab-df-convert:hover {\n",
              "      background-color: #434B5C;\n",
              "      box-shadow: 0px 1px 3px 1px rgba(0, 0, 0, 0.15);\n",
              "      filter: drop-shadow(0px 1px 2px rgba(0, 0, 0, 0.3));\n",
              "      fill: #FFFFFF;\n",
              "    }\n",
              "  </style>\n",
              "\n",
              "      <script>\n",
              "        const buttonEl =\n",
              "          document.querySelector('#df-69d5bf86-6c88-4e08-9838-91ac66df48bb button.colab-df-convert');\n",
              "        buttonEl.style.display =\n",
              "          google.colab.kernel.accessAllowed ? 'block' : 'none';\n",
              "\n",
              "        async function convertToInteractive(key) {\n",
              "          const element = document.querySelector('#df-69d5bf86-6c88-4e08-9838-91ac66df48bb');\n",
              "          const dataTable =\n",
              "            await google.colab.kernel.invokeFunction('convertToInteractive',\n",
              "                                                     [key], {});\n",
              "          if (!dataTable) return;\n",
              "\n",
              "          const docLinkHtml = 'Like what you see? Visit the ' +\n",
              "            '<a target=\"_blank\" href=https://colab.research.google.com/notebooks/data_table.ipynb>data table notebook</a>'\n",
              "            + ' to learn more about interactive tables.';\n",
              "          element.innerHTML = '';\n",
              "          dataTable['output_type'] = 'display_data';\n",
              "          await google.colab.output.renderOutput(dataTable, element);\n",
              "          const docLink = document.createElement('div');\n",
              "          docLink.innerHTML = docLinkHtml;\n",
              "          element.appendChild(docLink);\n",
              "        }\n",
              "      </script>\n",
              "    </div>\n",
              "  </div>\n",
              "  "
            ]
          },
          "metadata": {},
          "execution_count": 30
        }
      ]
    },
    {
      "cell_type": "code",
      "source": [
        "from sklearn.metrics import accuracy_score\n",
        "\n",
        "lr = LogisticRegression(max_iter = 10000)\n",
        "lr_model = lr.fit(X_train, y_train.values.ravel())\n",
        "y_pred = lr_model.predict(X_test)\n",
        "print('Logistic Regression Model Accuracy (on testing set): ')\n",
        "print(accuracy_score(y_test, y_pred))"
      ],
      "metadata": {
        "colab": {
          "base_uri": "https://localhost:8080/"
        },
        "id": "3BghOpcAELgi",
        "outputId": "13984ca4-5e36-4a5b-a643-470b41f3ff1b"
      },
      "execution_count": 31,
      "outputs": [
        {
          "output_type": "stream",
          "name": "stdout",
          "text": [
            "Logistic Regression Model Accuracy (on testing set): \n",
            "0.6579497907949791\n"
          ]
        }
      ]
    },
    {
      "cell_type": "code",
      "source": [
        "rf = RandomForestClassifier(random_state = 1)\n",
        "rf_model = rf.fit(X_train, y_train.values.ravel())\n",
        "y_pred = rf_model.predict(X_test)\n",
        "print('Random Forest Model Accuracy (on testing set): ')\n",
        "print(accuracy_score(y_test, y_pred))"
      ],
      "metadata": {
        "colab": {
          "base_uri": "https://localhost:8080/"
        },
        "id": "8T1uIucEEP_5",
        "outputId": "4888aa03-67b5-4497-e469-ec17f458f49f"
      },
      "execution_count": 32,
      "outputs": [
        {
          "output_type": "stream",
          "name": "stdout",
          "text": [
            "Random Forest Model Accuracy (on testing set): \n",
            "0.6642259414225942\n"
          ]
        }
      ]
    },
    {
      "cell_type": "code",
      "source": [
        "svc = SVC(probability = True)\n",
        "svc_model = svc.fit(X_train, y_train.values.ravel())\n",
        "y_pred = svc_model.predict(X_test)\n",
        "print('SVC Model Accuracy (on testing set): ')\n",
        "print(accuracy_score(y_test, y_pred))"
      ],
      "metadata": {
        "colab": {
          "base_uri": "https://localhost:8080/"
        },
        "id": "6gKWZ4jSFAQi",
        "outputId": "d8f580f5-380c-4529-8f81-8b403d1f9740"
      },
      "execution_count": 33,
      "outputs": [
        {
          "output_type": "stream",
          "name": "stdout",
          "text": [
            "SVC Model Accuracy (on testing set): \n",
            "0.6443514644351465\n"
          ]
        }
      ]
    },
    {
      "cell_type": "markdown",
      "source": [
        "Prediction Time\n",
        "UFC 259: Blachowicz vs Adesanya\n",
        "Title fights (5 rounds):\n",
        "Jan Blachowicz vs Israel Adesanya\n",
        "\n",
        "Amanda Nunes vs Megan Anderson\n",
        "\n",
        "Petr Yan vs Aljamain Sterling\n",
        "\n",
        "3 round fights:\n",
        "Islam Makhachev vs Drew Dober\n",
        "\n",
        "Thiago Santos vs Aleksandar Rakic\n",
        "\n",
        "The Stats: (https://www.espn.co.uk/mma/fightcenter/_/id/600001860/league/ufc)\n",
        "Fight 1\n",
        "Jan Blachowicz (Red)\n",
        "Israel Adesanya (Blue)\n",
        "Fight 2\n",
        "Amanda Nunes (Red)\n",
        "Megan Anderson (Blue)\n",
        "Fight 3\n",
        "Petr Yan (Red)\n",
        "Aljamain Sterling (Blue)\n",
        "Fight 4\n",
        "Islam Makhachev (Red)\n",
        "Drew Dober (Blue)\n",
        "Fight 5\n",
        "Thiago Santos (Red)\n",
        "Aleksandar Rakic (Blue)\n",
        "With all the stats available to us, it can create a data frame to feed into our models and get predictions"
      ],
      "metadata": {
        "id": "CO85b_2qITwr"
      }
    },
    {
      "cell_type": "code",
      "source": [
        "columns = X.columns"
      ],
      "metadata": {
        "id": "7GvapNtjJHVG"
      },
      "execution_count": 34,
      "outputs": []
    },
    {
      "cell_type": "code",
      "source": [
        "fight1 = X.loc[26]\n",
        "fight2 = X.loc[29]\n",
        "fight3 = X.loc[25]\n",
        "fight4 = X.loc[30]\n",
        "fight5 = X.loc[27]\n",
        "df1 = pd.DataFrame(np.array([fight1, fight2, fight3, fight4, fight5]), columns = columns)"
      ],
      "metadata": {
        "id": "TXXiGlVzJJKm"
      },
      "execution_count": 35,
      "outputs": []
    },
    {
      "cell_type": "markdown",
      "source": [
        "True Winners:\n",
        "Fight 1 - Jan Blachowicz\n",
        "Fight 2 - Amanda Nunes\n",
        "Fight 3 - Aljamain Sterling\n",
        "Fight 4 - Islam Makhachev\n",
        "Fight 5 - Aleksandar Rakic"
      ],
      "metadata": {
        "id": "wtqyOj3wIATE"
      }
    },
    {
      "cell_type": "code",
      "source": [
        "svc_model.predict(df1)"
      ],
      "metadata": {
        "colab": {
          "base_uri": "https://localhost:8080/"
        },
        "id": "xqP0X0_58Eky",
        "outputId": "77162e29-4216-46cf-c045-c606efc589ca"
      },
      "execution_count": 36,
      "outputs": [
        {
          "output_type": "execute_result",
          "data": {
            "text/plain": [
              "array([0, 0, 0, 0, 0])"
            ]
          },
          "metadata": {},
          "execution_count": 36
        }
      ]
    },
    {
      "cell_type": "markdown",
      "source": [
        "Predicted Winners:\n",
        "Fight 1 - Jan Blachowicz\n",
        "Fight 2 - Amanda Nunes\n",
        "Fight 3 - Petr Yan\n",
        "Fight 4 - Islam Makhachev\n",
        "Fight 5 - Thiago Santos\n",
        "Prediction success - 3/5"
      ],
      "metadata": {
        "id": "08jP47x4G7kD"
      }
    },
    {
      "cell_type": "code",
      "source": [
        "rf_model.predict(df1)"
      ],
      "metadata": {
        "colab": {
          "base_uri": "https://localhost:8080/"
        },
        "id": "dp_TZ87G8Psn",
        "outputId": "03bcfe83-3fd5-465f-8b2f-9c5583649592"
      },
      "execution_count": 37,
      "outputs": [
        {
          "output_type": "execute_result",
          "data": {
            "text/plain": [
              "array([0, 0, 1, 0, 0])"
            ]
          },
          "metadata": {},
          "execution_count": 37
        }
      ]
    },
    {
      "cell_type": "markdown",
      "source": [
        "Predicted Winners:\n",
        "Fight 1 - Jan Blachowicz\n",
        "Fight 2 - Amanda Nunes\n",
        "Fight 3 - Aljamain Sterling\n",
        "Fight 4 - Islam Makhachev\n",
        "Fight 5 - Thiago Santos\n",
        "Prediction success - 4/5"
      ],
      "metadata": {
        "id": "OaUkzsVhHTD7"
      }
    },
    {
      "cell_type": "code",
      "source": [
        "lr_model.predict(df1)"
      ],
      "metadata": {
        "colab": {
          "base_uri": "https://localhost:8080/"
        },
        "id": "hFG8x9Nl8RD_",
        "outputId": "b361958b-ef8c-4a84-f7d8-7e3c6f1be223"
      },
      "execution_count": 38,
      "outputs": [
        {
          "output_type": "execute_result",
          "data": {
            "text/plain": [
              "array([1, 0, 0, 0, 0])"
            ]
          },
          "metadata": {},
          "execution_count": 38
        }
      ]
    },
    {
      "cell_type": "markdown",
      "source": [
        "Predicted Winners:\n",
        "Fight 1 - Israel Adesanya\n",
        "Fight 2 - Amanda Nunes\n",
        "Fight 3 - Petr Yan\n",
        "Fight 4 - Islam Makhachev\n",
        "Fight 5 - Thiago Santos\n",
        "Prediction success - 2/5"
      ],
      "metadata": {
        "id": "p3fnWb3YHe7V"
      }
    }
  ]
}